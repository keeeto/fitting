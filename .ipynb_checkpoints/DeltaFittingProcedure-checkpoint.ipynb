{
 "cells": [
  {
   "cell_type": "code",
   "execution_count": 9,
   "metadata": {
    "collapsed": false
   },
   "outputs": [],
   "source": [
    "%matplotlib inline\n",
    "import numpy as np\n",
    "import matplotlib.pyplot as plt\n",
    "from itertools import cycle, islice\n",
    "import matplotlib.colors as mcolors\n",
    "import matplotlib as mpl\n",
    "import matplotlib.cm as cm\n",
    "from scipy import stats\n",
    "import matplotlib as mpl\n",
    "import smact.core as core\n",
    "from scipy.optimize import curve_fit\n",
    "S = core.Species('S',-2,'6_n')\n",
    "O = core.Species('O',-2,'6_n')\n",
    "Se = core.Species('Se',-2,'6_n')\n",
    "label_size = 16\n",
    "mpl.rcParams['xtick.labelsize'] = label_size\n",
    "mpl.rcParams['ytick.labelsize'] = label_size"
   ]
  },
  {
   "cell_type": "code",
   "execution_count": 10,
   "metadata": {
    "collapsed": false
   },
   "outputs": [],
   "source": [
    "f = open('bulk_props.dat','r')\n",
    "data = f.readlines()\n",
    "f.close()\n",
    "lattice = []; strain = []; epsH = []; eps = []; dip = []; IP = [];IPB = []; eNeg = []; iarea = []; sdipole = []; vbm = []; no_anions = []\n",
    "for line in data:\n",
    "    inp = line.split()\n",
    "    if inp[0] != 'a':\n",
    "        lattice.append(float(inp[0]))\n",
    "        strain.append(float(inp[1]))\n",
    "        epsH.append(float(inp[2]))\n",
    "        eps.append(float(inp[3]))\n",
    "        dip.append(float(inp[4]))\n",
    "        IP.append(float(inp[5]))\n",
    "        IPB.append(float(inp[6]))\n",
    "        eNeg.append((float(inp[7])+1.65)/2)\n",
    "        #eNeg.append(float(inp[7]) - 1.65)\n",
    "        iarea.append(1/float(inp[8])) # x2 because there are 2 atoms on the surface this is a density now\n",
    "        sdipole.append(float(inp[9]))\n",
    "        vbm.append(float(inp[10]))\n",
    "        no_anions.append(float(inp[11]))\n",
    "f = open('extra_species.dat','r')\n",
    "data = f.readlines()\n",
    "f.close()\n",
    "shannon = [O.shannon_radius,S.shannon_radius,Se.shannon_radius,O.shannon_radius,S.shannon_radius,Se.shannon_radius,O.shannon_radius,S.shannon_radius,Se.shannon_radius,O.shannon_radius,S.shannon_radius,O.shannon_radius,Se.shannon_radius,S.shannon_radius,Se.shannon_radius]\n",
    "for line in data:\n",
    "    inp = line.split()\n",
    "    if inp[0] != 'area':\n",
    "        iarea.append(1./float(inp[0]))\n",
    "        shannon.append(float(inp[1]))\n",
    "        eNeg.append((float(inp[2])+float(inp[3]))/2)\n",
    "        #eNeg.append(float(inp[2])-float(inp[3]))\n",
    "        sdipole.append(float(inp[4])+ float(inp[5]))\n",
    "        IP.append(float(inp[4]))\n",
    "        vbm.append(float(inp[5]))\n",
    "        no_anions.append(float(inp[6]))\n",
    "shannon = np.asanyarray(shannon)\n",
    "shannon = shannon.astype(np.float)"
   ]
  },
  {
   "cell_type": "code",
   "execution_count": 11,
   "metadata": {
    "collapsed": true
   },
   "outputs": [],
   "source": [
    "eNeg_slope = -1.2844403845\n",
    "eNeg_const = 3.51538344426\n",
    "area_slope = 26.537211322\n",
    "area_const = -0.8137043444\n",
    "area_chi_constant = 1.59263689063 \n",
    "dslope = 8.19254202564 \n",
    "dintercept = 2.50196540099 "
   ]
  },
  {
   "cell_type": "code",
   "execution_count": 12,
   "metadata": {
    "collapsed": true
   },
   "outputs": [],
   "source": [
    "def area_chi_dependence(chi,area):\n",
    "    return area_chi_constant*(eNeg_slope*chi + eNeg_const)*(area_slope*area + area_const)"
   ]
  },
  {
   "cell_type": "code",
   "execution_count": 13,
   "metadata": {
    "collapsed": true
   },
   "outputs": [],
   "source": [
    "def surf_dipole(elec_dipole):\n",
    "    return dslope*elec_dipole + dintercept"
   ]
  },
  {
   "cell_type": "code",
   "execution_count": 14,
   "metadata": {
    "collapsed": true
   },
   "outputs": [],
   "source": [
    "def predicted_dipole(factor,a,const):\n",
    "    return a*factor + const"
   ]
  },
  {
   "cell_type": "code",
   "execution_count": null,
   "metadata": {
    "collapsed": false
   },
   "outputs": [],
   "source": []
  },
  {
   "cell_type": "code",
   "execution_count": 15,
   "metadata": {
    "collapsed": false
   },
   "outputs": [
    {
     "ename": "NameError",
     "evalue": "name 'calculated_ionisation_potential' is not defined",
     "output_type": "error",
     "traceback": [
      "\u001b[0;31m---------------------------------------------------------------------------\u001b[0m",
      "\u001b[0;31mNameError\u001b[0m                                 Traceback (most recent call last)",
      "\u001b[0;32m<ipython-input-15-9ec7e0fb5744>\u001b[0m in \u001b[0;36m<module>\u001b[0;34m()\u001b[0m\n\u001b[1;32m      3\u001b[0m     \u001b[0;31m#factor.append(shannon[i]*area_chi_dependence(eNeg[i],iarea[i]))\u001b[0m\u001b[0;34m\u001b[0m\u001b[0;34m\u001b[0m\u001b[0m\n\u001b[1;32m      4\u001b[0m     \u001b[0mfactor\u001b[0m\u001b[0;34m.\u001b[0m\u001b[0mappend\u001b[0m\u001b[0;34m(\u001b[0m\u001b[0marea_chi_dependence\u001b[0m\u001b[0;34m(\u001b[0m\u001b[0meNeg\u001b[0m\u001b[0;34m[\u001b[0m\u001b[0mi\u001b[0m\u001b[0;34m]\u001b[0m\u001b[0;34m,\u001b[0m\u001b[0miarea\u001b[0m\u001b[0;34m[\u001b[0m\u001b[0mi\u001b[0m\u001b[0;34m]\u001b[0m\u001b[0;34m)\u001b[0m\u001b[0;34m)\u001b[0m\u001b[0;34m\u001b[0m\u001b[0m\n\u001b[0;32m----> 5\u001b[0;31m     \u001b[0mestimated_IPs\u001b[0m\u001b[0;34m.\u001b[0m\u001b[0mappend\u001b[0m\u001b[0;34m(\u001b[0m\u001b[0mcalculated_ionisation_potential\u001b[0m\u001b[0;34m(\u001b[0m\u001b[0mshannon\u001b[0m\u001b[0;34m[\u001b[0m\u001b[0mi\u001b[0m\u001b[0;34m]\u001b[0m\u001b[0;34m,\u001b[0m\u001b[0meNeg\u001b[0m\u001b[0;34m[\u001b[0m\u001b[0mi\u001b[0m\u001b[0;34m]\u001b[0m\u001b[0;34m,\u001b[0m\u001b[0miarea\u001b[0m\u001b[0;34m[\u001b[0m\u001b[0mi\u001b[0m\u001b[0;34m]\u001b[0m\u001b[0;34m,\u001b[0m\u001b[0mvbm\u001b[0m\u001b[0;34m[\u001b[0m\u001b[0mi\u001b[0m\u001b[0;34m]\u001b[0m\u001b[0;34m,\u001b[0m\u001b[0mno_anions\u001b[0m\u001b[0;34m[\u001b[0m\u001b[0mi\u001b[0m\u001b[0;34m]\u001b[0m\u001b[0;34m)\u001b[0m\u001b[0;34m)\u001b[0m\u001b[0;34m\u001b[0m\u001b[0m\n\u001b[0m",
      "\u001b[0;31mNameError\u001b[0m: name 'calculated_ionisation_potential' is not defined"
     ]
    }
   ],
   "source": [
    "factor = []; estimated_IPs = []\n",
    "for i, pot in enumerate(IP):\n",
    "    #factor.append(shannon[i]*area_chi_dependence(eNeg[i],iarea[i]))\n",
    "    factor.append(area_chi_dependence(eNeg[i],iarea[i]))\n",
    "    estimated_IPs.append(calculated_ionisation_potential(shannon[i],eNeg[i],iarea[i],vbm[i],no_anions[i]))"
   ]
  },
  {
   "cell_type": "code",
   "execution_count": null,
   "metadata": {
    "collapsed": false
   },
   "outputs": [],
   "source": [
    "popt, pcov = curve_fit(predicted_dipole, factor, sdipole)"
   ]
  },
  {
   "cell_type": "code",
   "execution_count": null,
   "metadata": {
    "collapsed": false
   },
   "outputs": [],
   "source": [
    "shannon[15],eNeg[15],iarea[15],vbm[15],no_anions[15]"
   ]
  },
  {
   "cell_type": "code",
   "execution_count": null,
   "metadata": {
    "collapsed": true
   },
   "outputs": [],
   "source": [
    "predicted_dipoles = []\n",
    "for number in factor:\n",
    "    predicted_dipoles.append(predicted_dipole(number,popt[0],popt[1]))    "
   ]
  },
  {
   "cell_type": "code",
   "execution_count": null,
   "metadata": {
    "collapsed": false
   },
   "outputs": [],
   "source": [
    "predicted_IP = []\n",
    "for i, dipole in enumerate(predicted_dipoles):\n",
    "    predicted_IP.append(dipole - vbm[i])"
   ]
  },
  {
   "cell_type": "code",
   "execution_count": null,
   "metadata": {
    "collapsed": false
   },
   "outputs": [],
   "source": [
    "ip_slope, ip_prefactor, r_value, p_value, std_err = stats.linregress(predicted_IP,IP)\n",
    "print 'k =', ip_slope\n",
    "print 'C =', ip_prefactor\n",
    "print 'Standard error =', std_err"
   ]
  },
  {
   "cell_type": "code",
   "execution_count": null,
   "metadata": {
    "collapsed": true
   },
   "outputs": [],
   "source": [
    "corrected_IP = []\n",
    "for I in predicted_IP:\n",
    "    corrected_IP.append(ip_slope*I + ip_prefactor)"
   ]
  },
  {
   "cell_type": "code",
   "execution_count": null,
   "metadata": {
    "collapsed": false
   },
   "outputs": [],
   "source": [
    "plt.scatter(IP,corrected_IP,marker='o',s=150,facecolors='none',edgecolors='r',label='Semi-empirical')\n",
    "plt.scatter(IP,estimated_IPs,marker='^',s=150)\n",
    "eyeline_x=np.arange(3,7)\n",
    "plt.plot(eyeline_x,eyeline_x,'--',lw=2,label='PBE')\n",
    "plt.xlabel('PBE Ionisation potential (eV)')\n",
    "plt.ylabel('Semi-empirical IP (eV)')\n",
    "plt.legend()\n",
    "plt.legend(loc=2, fontsize=12)\n",
    "plt.grid(True)"
   ]
  },
  {
   "cell_type": "code",
   "execution_count": null,
   "metadata": {
    "collapsed": false
   },
   "outputs": [],
   "source": [
    "print area_chi_dependence((3.44+0.91)/2,0.07)\n",
    "print calculated_ionisation_potential(1.42,(3.44+0.91)/2,1/27.87,2.86,2)"
   ]
  },
  {
   "cell_type": "markdown",
   "metadata": {},
   "source": [
    "## Test against materials not in the fitting (I. Zincblende semniconductors)"
   ]
  },
  {
   "cell_type": "code",
   "execution_count": null,
   "metadata": {
    "collapsed": false
   },
   "outputs": [],
   "source": [
    "f = open('zb_test_set.dat','r')\n",
    "data = f.readlines()\n",
    "f.close()\n",
    "zb_spec = [];zb_shannon = []; zb_av_chi = []; zb_iarea =[]; zb_eps = []; zb_IP_PBE = []; zb_noanions = []\n",
    "for line in data:\n",
    "    inp = line.split()\n",
    "    if inp[0] != '#':\n",
    "        zb_spec.append((inp[0]))\n",
    "        zb_shannon.append(float(inp[1]))\n",
    "        zb_av_chi.append(((float(inp[2])+float(inp[3])))/2)\n",
    "        zb_iarea.append(1/float(inp[4]))\n",
    "        zb_eps.append(float(inp[5]))\n",
    "        zb_IP_PBE.append(float(inp[6]))\n",
    "        zb_noanions.append(float(inp[7]))"
   ]
  },
  {
   "cell_type": "code",
   "execution_count": null,
   "metadata": {
    "collapsed": false
   },
   "outputs": [],
   "source": [
    "zb_test_IPs = []\n",
    "for i, ra in enumerate(zb_shannon):\n",
    "    zb_test_IPs.append(calculated_ionisation_potential(ra,zb_av_chi[i],zb_iarea[i],zb_eps[i],zb_noanions[i]))"
   ]
  },
  {
   "cell_type": "code",
   "execution_count": null,
   "metadata": {
    "collapsed": false
   },
   "outputs": [],
   "source": []
  },
  {
   "cell_type": "code",
   "execution_count": null,
   "metadata": {
    "collapsed": false
   },
   "outputs": [],
   "source": [
    "fig, ax1 = plt.subplots()\n",
    "ax1.set_color_cycle(['#ff8833', '#666677', '#aacccc', '#996655'])\n",
    "ax1.scatter(IP,corrected_IP,marker='o',s=150,alpha=0.9,label='Training',c='#ff8833')\n",
    "ax1.scatter(zb_IP_PBE[2:10],zb_test_IPs[2:10],marker='o',s=150,alpha=0.9,label='Zincblende',c='#666677')\n",
    "ax1.scatter(zb_IP_PBE[10:14],zb_test_IPs[10:14],marker='o',s=150,alpha=0.9,label='Rocksalt',c='#2EB82E')\n",
    "ax1.scatter(zb_IP_PBE[14],zb_test_IPs[14],marker='o',s=150,alpha=0.9,label='Wurtzute',c='#aacccc')\n",
    "#plt.scatter(zb_IP_PBE[12:],zb_test_IPs[12:],marker='o',s=150,alpha=0.7,label='Elemental')\n",
    "eyeline_x=np.arange(3,8)\n",
    "ax1.plot(eyeline_x,eyeline_x,'--',c='b')\n",
    "plt.legend()\n",
    "plt.xlim(3,7)\n",
    "plt.ylim(3,7)\n",
    "plt.legend(loc=2, fontsize=14)\n",
    "plt.grid(True)"
   ]
  },
  {
   "cell_type": "code",
   "execution_count": null,
   "metadata": {
    "collapsed": true
   },
   "outputs": [],
   "source": []
  },
  {
   "cell_type": "code",
   "execution_count": null,
   "metadata": {
    "collapsed": true
   },
   "outputs": [],
   "source": []
  },
  {
   "cell_type": "code",
   "execution_count": null,
   "metadata": {
    "collapsed": true
   },
   "outputs": [],
   "source": []
  }
 ],
 "metadata": {
  "kernelspec": {
   "display_name": "Python 2",
   "language": "python",
   "name": "python2"
  },
  "language_info": {
   "codemirror_mode": {
    "name": "ipython",
    "version": 2
   },
   "file_extension": ".py",
   "mimetype": "text/x-python",
   "name": "python",
   "nbconvert_exporter": "python",
   "pygments_lexer": "ipython2",
   "version": "2.7.10"
  }
 },
 "nbformat": 4,
 "nbformat_minor": 0
}
