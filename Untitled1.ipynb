{
 "cells": [
  {
   "cell_type": "code",
   "execution_count": 1,
   "metadata": {
    "collapsed": true
   },
   "outputs": [],
   "source": [
    "%matplotlib inline\n",
    "import numpy as np\n",
    "import matplotlib.pyplot as plt\n",
    "from itertools import cycle, islice\n",
    "import matplotlib.colors as mcolors\n",
    "import matplotlib as mpl\n",
    "import matplotlib.cm as cm\n",
    "from scipy import stats\n",
    "import matplotlib as mpl\n",
    "import smact.core as core\n",
    "from scipy.optimize import curve_fit\n",
    "S = core.Species('S',-2,'6_n')\n",
    "O = core.Species('O',-2,'6_n')\n",
    "Se = core.Species('Se',-2,'6_n')\n",
    "label_size = 16\n",
    "mpl.rcParams['xtick.labelsize'] = label_size\n",
    "mpl.rcParams['ytick.labelsize'] = label_size"
   ]
  },
  {
   "cell_type": "code",
   "execution_count": 2,
   "metadata": {
    "collapsed": true
   },
   "outputs": [],
   "source": [
    "f = open('bulk_props.dat','r')\n",
    "data = f.readlines()\n",
    "f.close()\n",
    "lattice = []; strain = []; epsH = []; eps = []; dip = []; IP = [];IPB = []; eNeg = []; iarea = []; sdipole = []; vbm = []; no_anions = []\n",
    "for line in data:\n",
    "    inp = line.split()\n",
    "    if inp[0] != 'a':\n",
    "        lattice.append(float(inp[0]))\n",
    "        strain.append(float(inp[1]))\n",
    "        epsH.append(float(inp[2]))\n",
    "        eps.append(float(inp[3]))\n",
    "        dip.append(float(inp[4]))\n",
    "        IP.append(float(inp[5]))\n",
    "        IPB.append(float(inp[6]))\n",
    "        eNeg.append((float(inp[7])+1.65)/2)\n",
    "        #eNeg.append(float(inp[7]) - 1.65)\n",
    "        iarea.append(1/float(inp[8])) # x2 because there are 2 atoms on the surface this is a density now\n",
    "        sdipole.append(float(inp[9]))\n",
    "        vbm.append(float(inp[10]))\n",
    "        no_anions.append(float(inp[11]))\n",
    "f = open('extra_species.dat','r')\n",
    "data = f.readlines()\n",
    "f.close()\n",
    "shannon = [O.shannon_radius,S.shannon_radius,Se.shannon_radius,O.shannon_radius,S.shannon_radius,Se.shannon_radius,O.shannon_radius,S.shannon_radius,Se.shannon_radius,O.shannon_radius,S.shannon_radius,O.shannon_radius,Se.shannon_radius,S.shannon_radius,Se.shannon_radius]\n",
    "Sb = core.Element('Sb')\n",
    "As = core.Element('As')\n",
    "cov_rad = [O.covalent_radius,S.covalent_radius,Se.covalent_radius,O.covalent_radius,S.covalent_radius,Se.covalent_radius,O.covalent_radius,S.covalent_radius,Se.covalent_radius,O.covalent_radius,S.covalent_radius,O.covalent_radius,Se.covalent_radius,S.covalent_radius,Se.covalent_radius,Sb.covalent_radius,As.covalent_radius,Sb.covalent_radius,As.covalent_radius]\n",
    "\n",
    "for line in data:\n",
    "    inp = line.split()\n",
    "    if inp[0] != 'area':\n",
    "        iarea.append(1./float(inp[0]))\n",
    "        shannon.append(float(inp[1]))\n",
    "        eNeg.append((float(inp[2])+float(inp[3]))/2)\n",
    "        #eNeg.append(float(inp[2])-float(inp[3]))\n",
    "        sdipole.append(float(inp[4])+ float(inp[5]))\n",
    "        IP.append(float(inp[4]))\n",
    "        vbm.append(float(inp[5]))\n",
    "        no_anions.append(float(inp[6]))\n",
    "shannon = np.asanyarray(shannon)\n",
    "shannon = shannon.astype(np.float)"
   ]
  },
  {
   "cell_type": "code",
   "execution_count": 3,
   "metadata": {
    "collapsed": true
   },
   "outputs": [],
   "source": [
    "eNeg_slope = -1.2844403845\n",
    "eNeg_const = 3.51538344426\n",
    "area_slope = 26.537211322\n",
    "area_const = -0.8137043444\n",
    "area_chi_constant = 1.59263689063 \n",
    "dslope = 8.19254202564 \n",
    "dintercept = 2.50196540099 "
   ]
  },
  {
   "cell_type": "code",
   "execution_count": 4,
   "metadata": {
    "collapsed": true
   },
   "outputs": [],
   "source": [
    "def area_chi_dependence(chi,area):\n",
    "    return area_chi_constant*(eNeg_slope*chi + eNeg_const)*(area_slope*area + area_const)"
   ]
  },
  {
   "cell_type": "code",
   "execution_count": 5,
   "metadata": {
    "collapsed": true
   },
   "outputs": [],
   "source": [
    "def surf_dipole(elec_dipole):\n",
    "    return dslope*elec_dipole + dintercept"
   ]
  },
  {
   "cell_type": "code",
   "execution_count": null,
   "metadata": {
    "collapsed": true
   },
   "outputs": [],
   "source": [
    "def electronic_dipole(rad,chi,A):\n",
    "    return "
   ]
  },
  {
   "cell_type": "code",
   "execution_count": 6,
   "metadata": {
    "collapsed": true
   },
   "outputs": [],
   "source": [
    "de_est = []; de_real = []; de_new_est = []; Ds =[]\n",
    "for i,e in enumerate(vbm):\n",
    "    di = IP[i] + vbm[i]\n",
    "    Ds.append(di)\n",
    "    de_real.append((di-2.50196540099)/8.19254202564)\n",
    "    de_est.append(area_chi_dependence(eNeg[i],iarea[i]))\n",
    "    de_new_est.append(cov_rad[i]*area_chi_dependence(eNeg[i],iarea[i]))"
   ]
  },
  {
   "cell_type": "code",
   "execution_count": 7,
   "metadata": {
    "collapsed": false
   },
   "outputs": [
    {
     "name": "stdout",
     "output_type": "stream",
     "text": [
      "0.105866642985\n",
      "1.11641428944 -0.0924576063368\n"
     ]
    },
    {
     "data": {
      "image/png": "[encoded data removed]",
      "text/plain": [
       "<matplotlib.figure.Figure at 0x104541c50>"
      ]
     },
     "metadata": {},
     "output_type": "display_data"
    }
   ],
   "source": [
    "plt.plot(de_real,de_new_est,'o')\n",
    "slope, prefactor, r_value, p_value, std_err = stats.linregress(de_real,de_new_est)\n",
    "print std_err\n",
    "print slope, prefactor"
   ]
  },
  {
   "cell_type": "code",
   "execution_count": null,
   "metadata": {
    "collapsed": true
   },
   "outputs": [],
   "source": []
  }
 ],
 "metadata": {
  "kernelspec": {
   "display_name": "Python 2",
   "language": "python",
   "name": "python2"
  },
  "language_info": {
   "codemirror_mode": {
    "name": "ipython",
    "version": 2
   },
   "file_extension": ".py",
   "mimetype": "text/x-python",
   "name": "python",
   "nbconvert_exporter": "python",
   "pygments_lexer": "ipython2",
   "version": "2.7.10"
  }
 },
 "nbformat": 4,
 "nbformat_minor": 0
}
